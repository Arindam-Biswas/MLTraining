{
 "cells": [
  {
   "cell_type": "markdown",
   "id": "satisfactory-market",
   "metadata": {},
   "source": [
    "**Install pandas and sklearn**"
   ]
  },
  {
   "cell_type": "code",
   "execution_count": null,
   "id": "immediate-henry",
   "metadata": {},
   "outputs": [],
   "source": [
    "pip install pandas-profiling"
   ]
  },
  {
   "cell_type": "code",
   "execution_count": null,
   "id": "electoral-allergy",
   "metadata": {},
   "outputs": [],
   "source": [
    "pip install sklearn"
   ]
  }
 ],
 "metadata": {
  "kernelspec": {
   "display_name": "Python 3",
   "language": "python",
   "name": "python3"
  },
  "language_info": {
   "codemirror_mode": {
    "name": "ipython",
    "version": 3
   },
   "file_extension": ".py",
   "mimetype": "text/x-python",
   "name": "python",
   "nbconvert_exporter": "python",
   "pygments_lexer": "ipython3",
   "version": "3.7.10"
  }
 },
 "nbformat": 4,
 "nbformat_minor": 5
}
